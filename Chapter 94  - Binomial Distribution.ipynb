{
 "cells": [
  {
   "cell_type": "markdown",
   "id": "18081e9b",
   "metadata": {},
   "source": [
    "Example 1: Two players are playing basketball, player A and player B. Player A takes an average of 11 shots per game, and has an average success rate of 72%. Player B takes an average of 15 shots per game, but has an average success rate of 48%.\n",
    "\n"
   ]
  },
  {
   "cell_type": "markdown",
   "id": "a355516e",
   "metadata": {},
   "source": [
    "Question 1: What's the probability that Player A makes 6 shots in an average game?\n",
    "\n",
    "Question 2: What's the probability that Player B makes 6 shots in an average game?"
   ]
  },
  {
   "cell_type": "code",
   "execution_count": 12,
   "id": "ac5ab2de",
   "metadata": {},
   "outputs": [],
   "source": [
    "# set up a Player  A\n",
    "#  probability of Sucess for A\n",
    "p_A = .72\n",
    "    \n",
    "# No of Shots\n",
    "n_A =  11\n",
    "\n",
    "\n",
    "# Required  no of Shots\n",
    "k = 6\n",
    "\n",
    "\n",
    "\n"
   ]
  },
  {
   "cell_type": "code",
   "execution_count": 15,
   "id": "48a04cbd",
   "metadata": {},
   "outputs": [
    {
     "name": "stdout",
     "output_type": "stream",
     "text": [
      "7.92\n",
      "1.4891608375189027\n"
     ]
    }
   ],
   "source": [
    "from scipy.stats import binom\n",
    "mean,var = binom.stats(n_A,p_A)\n",
    "\n",
    "print  (mean)\n",
    "print (var**0.5)"
   ]
  },
  {
   "cell_type": "code",
   "execution_count": null,
   "id": "8af2d31f",
   "metadata": {},
   "outputs": [],
   "source": []
  },
  {
   "cell_type": "code",
   "execution_count": null,
   "id": "93aa659b",
   "metadata": {},
   "outputs": [],
   "source": []
  },
  {
   "cell_type": "code",
   "execution_count": null,
   "id": "37b597cc",
   "metadata": {},
   "outputs": [],
   "source": []
  },
  {
   "cell_type": "code",
   "execution_count": null,
   "id": "7dc31101",
   "metadata": {},
   "outputs": [],
   "source": []
  }
 ],
 "metadata": {
  "kernelspec": {
   "display_name": "Python 3",
   "language": "python",
   "name": "python3"
  },
  "language_info": {
   "codemirror_mode": {
    "name": "ipython",
    "version": 3
   },
   "file_extension": ".py",
   "mimetype": "text/x-python",
   "name": "python",
   "nbconvert_exporter": "python",
   "pygments_lexer": "ipython3",
   "version": "3.8.8"
  }
 },
 "nbformat": 4,
 "nbformat_minor": 5
}
