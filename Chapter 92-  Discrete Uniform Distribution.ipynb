{
 "cells": [
  {
   "cell_type": "code",
   "execution_count": 3,
   "id": "d285d24b",
   "metadata": {},
   "outputs": [],
   "source": [
    "import  numpy as  np\n",
    "import  pandas as pd\n",
    "from numpy.random import randn\n",
    "from scipy import stats\n",
    "import matplotlib as mpl\n",
    "import matplotlib.pyplot as plt\n",
    "import seaborn as sns\n",
    "from __future__ import division\n",
    "\n",
    "%matplotlib inline\n",
    "\n"
   ]
  },
  {
   "cell_type": "code",
   "execution_count": 5,
   "id": "3a22e6b4",
   "metadata": {},
   "outputs": [],
   "source": [
    "# roll of dice\n",
    "# Let's check out the Probability Mass function!\n",
    "# Each number\n",
    "roll_options=[1,2,3,4,5,6]\n",
    "\n",
    "# total  probability  space\n",
    "tprob  =1\n",
    "\n",
    "# Each roll has same odds of appearing (on a fair die at least)\n",
    "prob_roll = tprob/len(roll_options)\n",
    "\n"
   ]
  },
  {
   "cell_type": "code",
   "execution_count": 11,
   "id": "687cfa8c",
   "metadata": {},
   "outputs": [
    {
     "data": {
      "image/png": "[encoded data removed]",
      "text/plain": [
       "<Figure size 432x288 with 1 Axes>"
      ]
     },
     "metadata": {
      "needs_background": "light"
     },
     "output_type": "display_data"
    }
   ],
   "source": [
    "# ploting  using Seaborn Rugplot\n",
    "\n",
    "uni_plot = sns.rugplot(roll_options, c='indianred', height = prob_roll)"
   ]
  },
  {
   "cell_type": "markdown",
   "id": "e1d62418",
   "metadata": {},
   "source": [
    "We can see in the above example that the f(x) value on the plot is just equal to 1/(Total Possible Outcomes)\n",
    "\n",
    "So what's the mean and variance of this uniform distribution?\n",
    "\n",
    "Mean  = (Max + Min)/2\n",
    "variance =  ((Max- Min+1)^2  -1)/12"
   ]
  },
  {
   "cell_type": "code",
   "execution_count": null,
   "id": "8ec32def",
   "metadata": {},
   "outputs": [],
   "source": [
    "# Now let's see how to automatically create a Discrete Uniform Distribution using Scipy."
   ]
  },
  {
   "cell_type": "code",
   "execution_count": 12,
   "id": "99909d82",
   "metadata": {},
   "outputs": [],
   "source": [
    "from scipy.stats import randint\n",
    "\n",
    "# setting  up  low and  high boundary for dice roll\n",
    "low, high = 1,7\n",
    "\n",
    "# get mean and  variance\n",
    "\n",
    "mean, var = randint.stats(low,high)\n"
   ]
  },
  {
   "cell_type": "code",
   "execution_count": 13,
   "id": "a54d03ca",
   "metadata": {},
   "outputs": [
    {
     "data": {
      "text/plain": [
       "array(3.5)"
      ]
     },
     "execution_count": 13,
     "metadata": {},
     "output_type": "execute_result"
    }
   ],
   "source": [
    "mean"
   ]
  },
  {
   "cell_type": "code",
   "execution_count": 14,
   "id": "5dc18c43",
   "metadata": {},
   "outputs": [
    {
     "data": {
      "text/plain": [
       "<BarContainer object of 6 artists>"
      ]
     },
     "execution_count": 14,
     "metadata": {},
     "output_type": "execute_result"
    },
    {
     "data": {
      "image/png": "[encoded data removed]",
      "text/plain": [
       "<Figure size 432x288 with 1 Axes>"
      ]
     },
     "metadata": {
      "needs_background": "light"
     },
     "output_type": "display_data"
    }
   ],
   "source": [
    "# Now we make a simple  bar plot\n",
    "plt.bar(roll_options,randint.pmf(roll_options,low,high))\n",
    "#pmf means  probility  mass function"
   ]
  },
  {
   "cell_type": "code",
   "execution_count": 1,
   "id": "690c0aa4",
   "metadata": {},
   "outputs": [],
   "source": []
  },
  {
   "cell_type": "code",
   "execution_count": null,
   "id": "6a6423fa",
   "metadata": {},
   "outputs": [],
   "source": []
  },
  {
   "cell_type": "code",
   "execution_count": null,
   "id": "2b8b00c0",
   "metadata": {},
   "outputs": [],
   "source": []
  }
 ],
 "metadata": {
  "kernelspec": {
   "display_name": "Python 3",
   "language": "python",
   "name": "python3"
  },
  "language_info": {
   "codemirror_mode": {
    "name": "ipython",
    "version": 3
   },
   "file_extension": ".py",
   "mimetype": "text/x-python",
   "name": "python",
   "nbconvert_exporter": "python",
   "pygments_lexer": "ipython3",
   "version": "3.8.8"
  }
 },
 "nbformat": 4,
 "nbformat_minor": 5
}
