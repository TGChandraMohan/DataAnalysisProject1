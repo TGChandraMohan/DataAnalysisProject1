{
 "cells": [
  {
   "cell_type": "code",
   "execution_count": 4,
   "id": "5957539e",
   "metadata": {},
   "outputs": [],
   "source": [
    "import numpy as np\n",
    "import pandas as pd\n",
    "from pandas import DataFrame,Series"
   ]
  },
  {
   "cell_type": "code",
   "execution_count": 6,
   "id": "48d7cfd5",
   "metadata": {},
   "outputs": [
    {
     "data": {
      "text/html": [
       "<div>\n",
       "<style scoped>\n",
       "    .dataframe tbody tr th:only-of-type {\n",
       "        vertical-align: middle;\n",
       "    }\n",
       "\n",
       "    .dataframe tbody tr th {\n",
       "        vertical-align: top;\n",
       "    }\n",
       "\n",
       "    .dataframe thead th {\n",
       "        text-align: right;\n",
       "    }\n",
       "</style>\n",
       "<table border=\"1\" class=\"dataframe\">\n",
       "  <thead>\n",
       "    <tr style=\"text-align: right;\">\n",
       "      <th></th>\n",
       "      <th>K1</th>\n",
       "      <th>K2</th>\n",
       "      <th>dataset1</th>\n",
       "      <th>dataset2</th>\n",
       "    </tr>\n",
       "  </thead>\n",
       "  <tbody>\n",
       "    <tr>\n",
       "      <th>0</th>\n",
       "      <td>X</td>\n",
       "      <td>alpha</td>\n",
       "      <td>1.288978</td>\n",
       "      <td>-2.259742</td>\n",
       "    </tr>\n",
       "    <tr>\n",
       "      <th>1</th>\n",
       "      <td>X</td>\n",
       "      <td>beta</td>\n",
       "      <td>-1.919197</td>\n",
       "      <td>-1.517935</td>\n",
       "    </tr>\n",
       "    <tr>\n",
       "      <th>2</th>\n",
       "      <td>Y</td>\n",
       "      <td>alpha</td>\n",
       "      <td>0.304948</td>\n",
       "      <td>-0.567991</td>\n",
       "    </tr>\n",
       "    <tr>\n",
       "      <th>3</th>\n",
       "      <td>Y</td>\n",
       "      <td>beta</td>\n",
       "      <td>0.572475</td>\n",
       "      <td>-1.807456</td>\n",
       "    </tr>\n",
       "    <tr>\n",
       "      <th>4</th>\n",
       "      <td>Z</td>\n",
       "      <td>alpha</td>\n",
       "      <td>1.817809</td>\n",
       "      <td>-0.530730</td>\n",
       "    </tr>\n",
       "  </tbody>\n",
       "</table>\n",
       "</div>"
      ],
      "text/plain": [
       "  K1     K2  dataset1  dataset2\n",
       "0  X  alpha  1.288978 -2.259742\n",
       "1  X   beta -1.919197 -1.517935\n",
       "2  Y  alpha  0.304948 -0.567991\n",
       "3  Y   beta  0.572475 -1.807456\n",
       "4  Z  alpha  1.817809 -0.530730"
      ]
     },
     "execution_count": 6,
     "metadata": {},
     "output_type": "execute_result"
    }
   ],
   "source": [
    "dframe= DataFrame({'K1':['X','X','Y','Y','Z'],\n",
    "                  'K2':['alpha','beta','alpha','beta','alpha'],\n",
    "                  'dataset1':np.random.randn(5),\n",
    "                  'dataset2':np.random.randn(5)})\n",
    "dframe"
   ]
  },
  {
   "cell_type": "code",
   "execution_count": 7,
   "id": "8a19de8e",
   "metadata": {},
   "outputs": [],
   "source": [
    "# Grouping dataset with K1 Key"
   ]
  },
  {
   "cell_type": "code",
   "execution_count": 10,
   "id": "291f834c",
   "metadata": {},
   "outputs": [],
   "source": [
    "group1=dframe['dataset1'].groupby(dframe['K1'])"
   ]
  },
  {
   "cell_type": "code",
   "execution_count": 11,
   "id": "1c9e366c",
   "metadata": {},
   "outputs": [
    {
     "data": {
      "text/plain": [
       "<pandas.core.groupby.generic.SeriesGroupBy object at 0x0DAB2DD8>"
      ]
     },
     "execution_count": 11,
     "metadata": {},
     "output_type": "execute_result"
    }
   ],
   "source": [
    "group1"
   ]
  },
  {
   "cell_type": "code",
   "execution_count": 12,
   "id": "2eb708b8",
   "metadata": {},
   "outputs": [
    {
     "data": {
      "text/plain": [
       "K1\n",
       "X   -0.315110\n",
       "Y    0.438712\n",
       "Z    1.817809\n",
       "Name: dataset1, dtype: float64"
      ]
     },
     "execution_count": 12,
     "metadata": {},
     "output_type": "execute_result"
    }
   ],
   "source": [
    "group1.mean()"
   ]
  },
  {
   "cell_type": "code",
   "execution_count": null,
   "id": "5aae17c9",
   "metadata": {},
   "outputs": [],
   "source": []
  },
  {
   "cell_type": "code",
   "execution_count": null,
   "id": "30838275",
   "metadata": {},
   "outputs": [],
   "source": []
  },
  {
   "cell_type": "code",
   "execution_count": null,
   "id": "6ee57c4f",
   "metadata": {},
   "outputs": [],
   "source": []
  }
 ],
 "metadata": {
  "kernelspec": {
   "display_name": "Python 3",
   "language": "python",
   "name": "python3"
  },
  "language_info": {
   "codemirror_mode": {
    "name": "ipython",
    "version": 3
   },
   "file_extension": ".py",
   "mimetype": "text/x-python",
   "name": "python",
   "nbconvert_exporter": "python",
   "pygments_lexer": "ipython3",
   "version": "3.8.8"
  }
 },
 "nbformat": 4,
 "nbformat_minor": 5
}
