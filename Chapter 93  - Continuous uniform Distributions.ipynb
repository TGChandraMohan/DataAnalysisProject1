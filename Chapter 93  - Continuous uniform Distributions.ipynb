{
 "cells": [
  {
   "cell_type": "markdown",
   "id": "162258c2",
   "metadata": {},
   "source": [
    "f(x) =  1  / b-a  (max -min)\n",
    "where... a(min) <= x <=b(max)\n",
    "\n",
    "\n",
    "\n",
    "Mean  =  (a + a)/2 ,,, (Max + Min)/2\n",
    "\n",
    "variance  =  (b - a)^2/12"
   ]
  },
  {
   "cell_type": "markdown",
   "id": "58b27c27",
   "metadata": {},
   "source": [
    "So what would an example problem look like? Let's say on average, a taxi ride in NYC takes 22 minutes. After taking some time measurements from experiments we gather that all the taxi rides are uniformly distributed between 19 and 27 minutes. What is the probability density function of a taxi ride, or f(x)?"
   ]
  },
  {
   "cell_type": "code",
   "execution_count": 4,
   "id": "9521cbb4",
   "metadata": {},
   "outputs": [
    {
     "data": {
      "text/plain": [
       "0.125"
      ]
     },
     "execution_count": 4,
     "metadata": {},
     "output_type": "execute_result"
    }
   ],
   "source": [
    "#  lets  solve thsi using  Python\n",
    "\n",
    "a = 19\n",
    "b = 27\n",
    "\n",
    "\n",
    "fx= 1 /(b-a)\n",
    "fx"
   ]
  },
  {
   "cell_type": "code",
   "execution_count": 5,
   "id": "919c84c6",
   "metadata": {},
   "outputs": [],
   "source": [
    "#variance\n",
    "\n",
    "var  = ((b-a)**2)/12"
   ]
  },
  {
   "cell_type": "code",
   "execution_count": 6,
   "id": "2a498e99",
   "metadata": {},
   "outputs": [
    {
     "data": {
      "text/plain": [
       "5.333333333333333"
      ]
     },
     "execution_count": 6,
     "metadata": {},
     "output_type": "execute_result"
    }
   ],
   "source": [
    "var"
   ]
  },
  {
   "cell_type": "markdown",
   "id": "effe4560",
   "metadata": {},
   "source": [
    "So let's ask the question, what's the probability that the taxi ride will last at least 25 minutes?"
   ]
  },
  {
   "cell_type": "code",
   "execution_count": 14,
   "id": "2b46cf7c",
   "metadata": {},
   "outputs": [],
   "source": [
    "# f(27) probability of 27 ( 27 the entier space)\n",
    "\n",
    "fx_27  = 27/(b-a)\n",
    "\n",
    "#f(25)\n",
    "\n",
    "fx_25  = 25/(b-a)\n",
    "\n",
    "ans=  (fx_27  - fx_25)*100"
   ]
  },
  {
   "cell_type": "code",
   "execution_count": 11,
   "id": "4b78b449",
   "metadata": {},
   "outputs": [
    {
     "data": {
      "text/plain": [
       "25.0"
      ]
     },
     "execution_count": 11,
     "metadata": {},
     "output_type": "execute_result"
    }
   ],
   "source": [
    "ans"
   ]
  },
  {
   "cell_type": "markdown",
   "id": "bf3a35d7",
   "metadata": {},
   "source": [
    "Now let's see how to do this automatically with scipy."
   ]
  },
  {
   "cell_type": "code",
   "execution_count": 24,
   "id": "4fc45760",
   "metadata": {},
   "outputs": [],
   "source": [
    "from scipy.stats import uniform\n",
    "import  numpy as np\n",
    "import matplotlib.pyplot as plt"
   ]
  },
  {
   "cell_type": "code",
   "execution_count": 16,
   "id": "34b721eb",
   "metadata": {},
   "outputs": [],
   "source": [
    "# a min b Max\n",
    "a = 19\n",
    "b= 27"
   ]
  },
  {
   "cell_type": "code",
   "execution_count": 21,
   "id": "fad6ee34",
   "metadata": {},
   "outputs": [],
   "source": [
    "# set  x as 100 Linearly spaced points  Between a and b\n",
    "x = np.linspace(a,b,100)"
   ]
  },
  {
   "cell_type": "code",
   "execution_count": 22,
   "id": "6e6bdbe7",
   "metadata": {},
   "outputs": [],
   "source": [
    "# Use uniform(loc=start point,scale=endpoint)\n",
    "rv = uniform(loc= a , scale  = b)"
   ]
  },
  {
   "cell_type": "code",
   "execution_count": 25,
   "id": "295acc51",
   "metadata": {},
   "outputs": [
    {
     "data": {
      "text/plain": [
       "[<matplotlib.lines.Line2D at 0xe989238>]"
      ]
     },
     "execution_count": 25,
     "metadata": {},
     "output_type": "execute_result"
    },
    {
     "data": {
      "image/png": "[encoded data removed]",
      "text/plain": [
       "<Figure size 432x288 with 1 Axes>"
      ]
     },
     "metadata": {
      "needs_background": "light"
     },
     "output_type": "display_data"
    }
   ],
   "source": [
    "#Plot the PDF of that uniform distirbution\n",
    "plt.plot(x,rv.pdf(x))"
   ]
  },
  {
   "cell_type": "code",
   "execution_count": null,
   "id": "2e932d8e",
   "metadata": {},
   "outputs": [],
   "source": []
  },
  {
   "cell_type": "code",
   "execution_count": null,
   "id": "a200e303",
   "metadata": {},
   "outputs": [],
   "source": []
  },
  {
   "cell_type": "code",
   "execution_count": null,
   "id": "8100f850",
   "metadata": {},
   "outputs": [],
   "source": []
  }
 ],
 "metadata": {
  "kernelspec": {
   "display_name": "Python 3",
   "language": "python",
   "name": "python3"
  },
  "language_info": {
   "codemirror_mode": {
    "name": "ipython",
    "version": 3
   },
   "file_extension": ".py",
   "mimetype": "text/x-python",
   "name": "python",
   "nbconvert_exporter": "python",
   "pygments_lexer": "ipython3",
   "version": "3.8.8"
  }
 },
 "nbformat": 4,
 "nbformat_minor": 5
}
