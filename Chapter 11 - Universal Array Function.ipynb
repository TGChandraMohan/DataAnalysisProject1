{
 "cells": [
  {
   "cell_type": "code",
   "execution_count": 2,
   "id": "dd732d32",
   "metadata": {},
   "outputs": [],
   "source": [
    "import numpy as np"
   ]
  },
  {
   "cell_type": "code",
   "execution_count": 5,
   "id": "de28ff3a",
   "metadata": {},
   "outputs": [
    {
     "data": {
      "text/plain": [
       "array([ 0,  1,  2,  3,  4,  5,  6,  7,  8,  9, 10])"
      ]
     },
     "execution_count": 5,
     "metadata": {},
     "output_type": "execute_result"
    }
   ],
   "source": [
    "arr= np.arange(11)\n",
    "arr"
   ]
  },
  {
   "cell_type": "code",
   "execution_count": 9,
   "id": "42ba37dd",
   "metadata": {},
   "outputs": [],
   "source": [
    "\n",
    "# Example 1 -  Creating array with  square root\n",
    "arr_sqr = np.sqrt(arr)\n"
   ]
  },
  {
   "cell_type": "code",
   "execution_count": 10,
   "id": "7788ddfa",
   "metadata": {},
   "outputs": [
    {
     "data": {
      "text/plain": [
       "array([0.        , 1.        , 1.41421356, 1.73205081, 2.        ,\n",
       "       2.23606798, 2.44948974, 2.64575131, 2.82842712, 3.        ,\n",
       "       3.16227766])"
      ]
     },
     "execution_count": 10,
     "metadata": {},
     "output_type": "execute_result"
    }
   ],
   "source": [
    "arr_sqr"
   ]
  },
  {
   "cell_type": "code",
   "execution_count": null,
   "id": "2da93491",
   "metadata": {},
   "outputs": [],
   "source": [
    "# Example 2 - Finding  Expotential"
   ]
  },
  {
   "cell_type": "code",
   "execution_count": 13,
   "id": "a94e6296",
   "metadata": {},
   "outputs": [
    {
     "data": {
      "text/plain": [
       "array([1.00000000e+00, 2.71828183e+00, 7.38905610e+00, 2.00855369e+01,\n",
       "       5.45981500e+01, 1.48413159e+02, 4.03428793e+02, 1.09663316e+03,\n",
       "       2.98095799e+03, 8.10308393e+03, 2.20264658e+04])"
      ]
     },
     "execution_count": 13,
     "metadata": {},
     "output_type": "execute_result"
    }
   ],
   "source": [
    "arr_exp= np.exp(arr)\n",
    "arr_exp"
   ]
  },
  {
   "cell_type": "code",
   "execution_count": 14,
   "id": "822469f0",
   "metadata": {},
   "outputs": [],
   "source": [
    "# Example 3  - Binary Functions\n",
    "to do thsi  first we  creat two array with some  random numbers"
   ]
  },
  {
   "cell_type": "code",
   "execution_count": 18,
   "id": "08dc1210",
   "metadata": {},
   "outputs": [
    {
     "data": {
      "text/plain": [
       "array([-2.14798518,  0.4901671 , -0.18219893,  0.65610974,  1.10290391,\n",
       "        0.35929024,  0.83548313,  0.22766913, -0.43567053,  1.33354373])"
      ]
     },
     "execution_count": 18,
     "metadata": {},
     "output_type": "execute_result"
    }
   ],
   "source": [
    "A= np.random.randn(10)\n",
    "\n",
    "A\n"
   ]
  },
  {
   "cell_type": "code",
   "execution_count": 20,
   "id": "56e95c8a",
   "metadata": {},
   "outputs": [
    {
     "data": {
      "text/plain": [
       "array([-0.77890248,  0.28762205,  0.08410766,  0.19388654,  0.60137308,\n",
       "        0.87364386,  1.76501159,  0.0274357 , -1.60368202, -1.67273964])"
      ]
     },
     "execution_count": 20,
     "metadata": {},
     "output_type": "execute_result"
    }
   ],
   "source": [
    "B= np.random.randn(10)\n",
    "B"
   ]
  },
  {
   "cell_type": "code",
   "execution_count": 21,
   "id": "157abfa6",
   "metadata": {},
   "outputs": [
    {
     "data": {
      "text/plain": [
       "array([-2.92688765,  0.77778915, -0.09809127,  0.84999628,  1.70427699,\n",
       "        1.2329341 ,  2.60049472,  0.25510483, -2.03935256, -0.33919591])"
      ]
     },
     "execution_count": 21,
     "metadata": {},
     "output_type": "execute_result"
    }
   ],
   "source": [
    "#Binary Functions\n",
    "#Addition \n",
    "np.add(A,B)"
   ]
  },
  {
   "cell_type": "code",
   "execution_count": 23,
   "id": "4defef20",
   "metadata": {},
   "outputs": [
    {
     "data": {
      "text/plain": [
       "array([-2.14798518,  0.28762205, -0.18219893,  0.19388654,  0.60137308,\n",
       "        0.35929024,  0.83548313,  0.0274357 , -1.60368202, -1.67273964])"
      ]
     },
     "execution_count": 23,
     "metadata": {},
     "output_type": "execute_result"
    }
   ],
   "source": [
    "#minimum\n",
    "np.minimum(A,B)"
   ]
  },
  {
   "cell_type": "code",
   "execution_count": 31,
   "id": "f21d50ee",
   "metadata": {},
   "outputs": [
    {
     "data": {
      "text/plain": [
       "True"
      ]
     },
     "execution_count": 31,
     "metadata": {},
     "output_type": "execute_result"
    }
   ],
   "source": [
    "# Example 4\n",
    "website ='https://www.khanacademy.org/math/algebra/x2f8bb11595b61c86:exponential-growth-decay/x2f8bb11595b61c86:exponential-vs-linear-growth/v/exponential-growth-functions'\n",
    "import webbrowser\n",
    "webbrowser.open(website)"
   ]
  },
  {
   "cell_type": "code",
   "execution_count": null,
   "id": "268ddf6f",
   "metadata": {},
   "outputs": [],
   "source": []
  },
  {
   "cell_type": "code",
   "execution_count": null,
   "id": "89e38aba",
   "metadata": {},
   "outputs": [],
   "source": []
  },
  {
   "cell_type": "code",
   "execution_count": null,
   "id": "f4eac64e",
   "metadata": {},
   "outputs": [],
   "source": []
  },
  {
   "cell_type": "code",
   "execution_count": null,
   "id": "8e538088",
   "metadata": {},
   "outputs": [],
   "source": []
  },
  {
   "cell_type": "code",
   "execution_count": null,
   "id": "12dbc4d6",
   "metadata": {},
   "outputs": [],
   "source": []
  }
 ],
 "metadata": {
  "kernelspec": {
   "display_name": "Python 3",
   "language": "python",
   "name": "python3"
  },
  "language_info": {
   "codemirror_mode": {
    "name": "ipython",
    "version": 3
   },
   "file_extension": ".py",
   "mimetype": "text/x-python",
   "name": "python",
   "nbconvert_exporter": "python",
   "pygments_lexer": "ipython3",
   "version": "3.8.8"
  }
 },
 "nbformat": 4,
 "nbformat_minor": 5
}
