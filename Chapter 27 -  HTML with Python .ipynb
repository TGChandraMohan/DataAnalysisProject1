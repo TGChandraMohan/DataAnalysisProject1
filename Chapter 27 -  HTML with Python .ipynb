{
 "cells": [
  {
   "cell_type": "code",
   "execution_count": 1,
   "id": "c33f4426",
   "metadata": {},
   "outputs": [],
   "source": [
    "import pandas as  pd\n",
    "from pandas import DataFrame, Series\n",
    "from pandas import read_html\n",
    "import html5lib\n",
    "\n"
   ]
  },
  {
   "cell_type": "code",
   "execution_count": 13,
   "id": "5ee5d05d",
   "metadata": {},
   "outputs": [],
   "source": [
    "url='https://en.wikipedia.org/wiki/Indian_Premier_League'"
   ]
  },
  {
   "cell_type": "code",
   "execution_count": 14,
   "id": "a098f09f",
   "metadata": {},
   "outputs": [],
   "source": [
    "# pip install beautiful- soup\n",
    "#  pip installhtml5lib"
   ]
  },
  {
   "cell_type": "code",
   "execution_count": 15,
   "id": "b0b990d1",
   "metadata": {},
   "outputs": [],
   "source": [
    "dframe_list= pd.io.html.read_html(url)"
   ]
  },
  {
   "cell_type": "code",
   "execution_count": 18,
   "id": "88525ed3",
   "metadata": {},
   "outputs": [
    {
     "data": {
      "text/html": [
       "<div>\n",
       "<style scoped>\n",
       "    .dataframe tbody tr th:only-of-type {\n",
       "        vertical-align: middle;\n",
       "    }\n",
       "\n",
       "    .dataframe tbody tr th {\n",
       "        vertical-align: top;\n",
       "    }\n",
       "\n",
       "    .dataframe thead th {\n",
       "        text-align: right;\n",
       "    }\n",
       "</style>\n",
       "<table border=\"1\" class=\"dataframe\">\n",
       "  <thead>\n",
       "    <tr style=\"text-align: right;\">\n",
       "      <th></th>\n",
       "      <th>0</th>\n",
       "      <th>1</th>\n",
       "    </tr>\n",
       "  </thead>\n",
       "  <tbody>\n",
       "    <tr>\n",
       "      <th>0</th>\n",
       "      <td>NaN</td>\n",
       "      <td>NaN</td>\n",
       "    </tr>\n",
       "    <tr>\n",
       "      <th>1</th>\n",
       "      <td>Countries</td>\n",
       "      <td>India</td>\n",
       "    </tr>\n",
       "    <tr>\n",
       "      <th>2</th>\n",
       "      <td>Administrator</td>\n",
       "      <td>Reliance industries</td>\n",
       "    </tr>\n",
       "    <tr>\n",
       "      <th>3</th>\n",
       "      <td>Format</td>\n",
       "      <td>T20</td>\n",
       "    </tr>\n",
       "    <tr>\n",
       "      <th>4</th>\n",
       "      <td>First edition</td>\n",
       "      <td>2008</td>\n",
       "    </tr>\n",
       "    <tr>\n",
       "      <th>5</th>\n",
       "      <td>Tournament format</td>\n",
       "      <td>Double round-robin and playoffs</td>\n",
       "    </tr>\n",
       "    <tr>\n",
       "      <th>6</th>\n",
       "      <td>Number of teams</td>\n",
       "      <td>8</td>\n",
       "    </tr>\n",
       "    <tr>\n",
       "      <th>7</th>\n",
       "      <td>Current champion</td>\n",
       "      <td>Mumbai Indians (5th title)</td>\n",
       "    </tr>\n",
       "    <tr>\n",
       "      <th>8</th>\n",
       "      <td>Most successful</td>\n",
       "      <td>Mumbai Indians (5 titles)</td>\n",
       "    </tr>\n",
       "    <tr>\n",
       "      <th>9</th>\n",
       "      <td>Most runs</td>\n",
       "      <td>Virat Kohli (6076)[1]</td>\n",
       "    </tr>\n",
       "    <tr>\n",
       "      <th>10</th>\n",
       "      <td>Most wickets</td>\n",
       "      <td>Lasith Malinga (170)[2]</td>\n",
       "    </tr>\n",
       "    <tr>\n",
       "      <th>11</th>\n",
       "      <td>TV</td>\n",
       "      <td>List of broadcasters</td>\n",
       "    </tr>\n",
       "    <tr>\n",
       "      <th>12</th>\n",
       "      <td>2021 Indian Premier League</td>\n",
       "      <td>2021 Indian Premier League</td>\n",
       "    </tr>\n",
       "    <tr>\n",
       "      <th>13</th>\n",
       "      <td>Website</td>\n",
       "      <td>IPLT20.com</td>\n",
       "    </tr>\n",
       "  </tbody>\n",
       "</table>\n",
       "</div>"
      ],
      "text/plain": [
       "                             0                                1\n",
       "0                          NaN                              NaN\n",
       "1                    Countries                            India\n",
       "2                Administrator              Reliance industries\n",
       "3                       Format                              T20\n",
       "4                First edition                             2008\n",
       "5            Tournament format  Double round-robin and playoffs\n",
       "6              Number of teams                                8\n",
       "7             Current champion       Mumbai Indians (5th title)\n",
       "8              Most successful        Mumbai Indians (5 titles)\n",
       "9                    Most runs            Virat Kohli (6076)[1]\n",
       "10                Most wickets          Lasith Malinga (170)[2]\n",
       "11                          TV             List of broadcasters\n",
       "12  2021 Indian Premier League       2021 Indian Premier League\n",
       "13                     Website                       IPLT20.com"
      ]
     },
     "execution_count": 18,
     "metadata": {},
     "output_type": "execute_result"
    }
   ],
   "source": [
    "dframe = dframe_list[0]\n",
    "dframe"
   ]
  },
  {
   "cell_type": "code",
   "execution_count": null,
   "id": "9a5e9ee6",
   "metadata": {},
   "outputs": [],
   "source": []
  }
 ],
 "metadata": {
  "kernelspec": {
   "display_name": "Python 3",
   "language": "python",
   "name": "python3"
  },
  "language_info": {
   "codemirror_mode": {
    "name": "ipython",
    "version": 3
   },
   "file_extension": ".py",
   "mimetype": "text/x-python",
   "name": "python",
   "nbconvert_exporter": "python",
   "pygments_lexer": "ipython3",
   "version": "3.8.8"
  }
 },
 "nbformat": 4,
 "nbformat_minor": 5
}
