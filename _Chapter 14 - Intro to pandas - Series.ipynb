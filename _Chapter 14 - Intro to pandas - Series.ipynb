{
 "cells": [
  {
   "cell_type": "code",
   "execution_count": 21,
   "id": "fefc0023",
   "metadata": {},
   "outputs": [],
   "source": [
    "import numpy as np\n",
    "\n",
    "import pandas as pd\n",
    "\n",
    "from pandas import Series, DataFrame"
   ]
  },
  {
   "cell_type": "code",
   "execution_count": null,
   "id": "3e144920",
   "metadata": {},
   "outputs": [],
   "source": [
    "#Example 1 - Creating Series"
   ]
  },
  {
   "cell_type": "code",
   "execution_count": 9,
   "id": "05c85d7a",
   "metadata": {},
   "outputs": [
    {
     "data": {
      "text/plain": [
       "0     3\n",
       "1     6\n",
       "2     9\n",
       "3    12\n",
       "dtype: int64"
      ]
     },
     "execution_count": 9,
     "metadata": {},
     "output_type": "execute_result"
    }
   ],
   "source": [
    "obja = Series([3,6,9,12])\n",
    "obja"
   ]
  },
  {
   "cell_type": "code",
   "execution_count": 10,
   "id": "4cd2c5ff",
   "metadata": {},
   "outputs": [
    {
     "data": {
      "text/plain": [
       "array([ 3,  6,  9, 12], dtype=int64)"
      ]
     },
     "execution_count": 10,
     "metadata": {},
     "output_type": "execute_result"
    }
   ],
   "source": [
    "obja.values"
   ]
  },
  {
   "cell_type": "code",
   "execution_count": 11,
   "id": "305ccef9",
   "metadata": {},
   "outputs": [
    {
     "data": {
      "text/plain": [
       "RangeIndex(start=0, stop=4, step=1)"
      ]
     },
     "execution_count": 11,
     "metadata": {},
     "output_type": "execute_result"
    }
   ],
   "source": [
    "obja.index"
   ]
  },
  {
   "cell_type": "code",
   "execution_count": 12,
   "id": "4726f856",
   "metadata": {},
   "outputs": [],
   "source": [
    "# Example 2  - Creting series of data"
   ]
  },
  {
   "cell_type": "code",
   "execution_count": 4,
   "id": "b2579116",
   "metadata": {},
   "outputs": [
    {
     "data": {
      "text/plain": [
       "USA    8.3\n",
       "GEM    4.3\n",
       "LDN    3.0\n",
       "AUS    2.1\n",
       "IND    0.4\n",
       "dtype: float64"
      ]
     },
     "execution_count": 4,
     "metadata": {},
     "output_type": "execute_result"
    }
   ],
   "source": [
    "ww2_casual = Series([8.3,4.3,3,2.10,0.40],index =['USA', 'GEM','LDN','AUS','IND'])\n",
    "ww2_casual"
   ]
  },
  {
   "cell_type": "code",
   "execution_count": 25,
   "id": "f9eaf36d",
   "metadata": {},
   "outputs": [
    {
     "data": {
      "text/plain": [
       "8.3"
      ]
     },
     "execution_count": 25,
     "metadata": {},
     "output_type": "execute_result"
    }
   ],
   "source": [
    "ww2_casual['USA']"
   ]
  },
  {
   "cell_type": "code",
   "execution_count": 26,
   "id": "94aa1eb5",
   "metadata": {},
   "outputs": [
    {
     "data": {
      "text/plain": [
       "USA    8.3\n",
       "GEM    4.3\n",
       "dtype: float64"
      ]
     },
     "execution_count": 26,
     "metadata": {},
     "output_type": "execute_result"
    }
   ],
   "source": [
    "# Sample 2\n",
    "#check which country  casuality grater than 4  million\n",
    "ww2_casual[ww2_casual >4]"
   ]
  },
  {
   "cell_type": "code",
   "execution_count": 27,
   "id": "335e6b9d",
   "metadata": {},
   "outputs": [],
   "source": [
    "# sample 3\n",
    "# check whether the given item is in the array"
   ]
  },
  {
   "cell_type": "code",
   "execution_count": 28,
   "id": "833ec995",
   "metadata": {},
   "outputs": [
    {
     "data": {
      "text/plain": [
       "True"
      ]
     },
     "execution_count": 28,
     "metadata": {},
     "output_type": "execute_result"
    }
   ],
   "source": [
    "'LDN' in ww2_casual"
   ]
  },
  {
   "cell_type": "code",
   "execution_count": 29,
   "id": "307a1d5b",
   "metadata": {},
   "outputs": [
    {
     "data": {
      "text/plain": [
       "False"
      ]
     },
     "execution_count": 29,
     "metadata": {},
     "output_type": "execute_result"
    }
   ],
   "source": [
    "'GBP' in ww2_casual"
   ]
  },
  {
   "cell_type": "code",
   "execution_count": null,
   "id": "a3396f73",
   "metadata": {},
   "outputs": [],
   "source": [
    "#Examole 3 - changing a series into a dictionary"
   ]
  },
  {
   "cell_type": "code",
   "execution_count": 5,
   "id": "e0493bb2",
   "metadata": {},
   "outputs": [
    {
     "data": {
      "text/plain": [
       "{'USA': 8.3, 'GEM': 4.3, 'LDN': 3.0, 'AUS': 2.1, 'IND': 0.4}"
      ]
     },
     "execution_count": 5,
     "metadata": {},
     "output_type": "execute_result"
    }
   ],
   "source": [
    "ww2_dict = ww2_casual.to_dict()\n",
    "ww2_dict"
   ]
  },
  {
   "cell_type": "code",
   "execution_count": 8,
   "id": "3ae44586",
   "metadata": {},
   "outputs": [
    {
     "data": {
      "text/plain": [
       "USA    8.3\n",
       "GEM    4.3\n",
       "LDN    3.0\n",
       "AUS    2.1\n",
       "IND    0.4\n",
       "dtype: float64"
      ]
     },
     "execution_count": 8,
     "metadata": {},
     "output_type": "execute_result"
    }
   ],
   "source": [
    "# Example 4 - Convertig dictionary in to a series\n",
    "\n",
    "ww2_series = Series(ww2_dict)\n",
    "\n",
    "ww2_series"
   ]
  },
  {
   "cell_type": "code",
   "execution_count": 12,
   "id": "627cd243",
   "metadata": {},
   "outputs": [],
   "source": [
    "# Example 4 - Setting up index for  dicttionary\n",
    "\n",
    "country = ['USA','GEM','LDN','AUS','PAK']"
   ]
  },
  {
   "cell_type": "code",
   "execution_count": 17,
   "id": "7f7d55da",
   "metadata": {},
   "outputs": [
    {
     "data": {
      "text/plain": [
       "USA    8.3\n",
       "GEM    4.3\n",
       "LDN    3.0\n",
       "AUS    2.1\n",
       "PAK    NaN\n",
       "dtype: float64"
      ]
     },
     "execution_count": 17,
     "metadata": {},
     "output_type": "execute_result"
    }
   ],
   "source": [
    "obj2 = Series(ww2_dict,index=country)\n",
    "\n",
    "obj2\n",
    "# in newly created Inde we added new country Pak which is not in dictionary hence it shows Pak NAn"
   ]
  },
  {
   "cell_type": "code",
   "execution_count": null,
   "id": "d0078a6e",
   "metadata": {},
   "outputs": [],
   "source": [
    "#Example 5\n",
    "# Pandas has built in methods to find null or not null"
   ]
  },
  {
   "cell_type": "code",
   "execution_count": 18,
   "id": "aeffe600",
   "metadata": {},
   "outputs": [
    {
     "data": {
      "text/plain": [
       "USA    False\n",
       "GEM    False\n",
       "LDN    False\n",
       "AUS    False\n",
       "PAK     True\n",
       "dtype: bool"
      ]
     },
     "execution_count": 18,
     "metadata": {},
     "output_type": "execute_result"
    }
   ],
   "source": [
    "pd.isnull(obj2)# finding null"
   ]
  },
  {
   "cell_type": "code",
   "execution_count": 19,
   "id": "b7c62378",
   "metadata": {},
   "outputs": [
    {
     "data": {
      "text/plain": [
       "USA     True\n",
       "GEM     True\n",
       "LDN     True\n",
       "AUS     True\n",
       "PAK    False\n",
       "dtype: bool"
      ]
     },
     "execution_count": 19,
     "metadata": {},
     "output_type": "execute_result"
    }
   ],
   "source": [
    "pd.notnull(obj2)"
   ]
  },
  {
   "cell_type": "code",
   "execution_count": null,
   "id": "431adc1e",
   "metadata": {},
   "outputs": [],
   "source": [
    "#Example 6  - Adding Series to Series, and it'll automatically align the data by index."
   ]
  },
  {
   "cell_type": "code",
   "execution_count": 27,
   "id": "2d0f1b6e",
   "metadata": {},
   "outputs": [
    {
     "data": {
      "text/plain": [
       "AUS     4.2\n",
       "GEM     8.6\n",
       "IND     NaN\n",
       "LDN     6.0\n",
       "PAK     NaN\n",
       "USA    16.6\n",
       "dtype: float64"
      ]
     },
     "execution_count": 27,
     "metadata": {},
     "output_type": "execute_result"
    }
   ],
   "source": [
    "ww2_series + obj2"
   ]
  },
  {
   "cell_type": "code",
   "execution_count": null,
   "id": "f3907689",
   "metadata": {},
   "outputs": [],
   "source": [
    "# Sample 7 - naming new series and index"
   ]
  },
  {
   "cell_type": "code",
   "execution_count": 25,
   "id": "0d834f7b",
   "metadata": {},
   "outputs": [],
   "source": [
    "obj2.name = \"world war 2 Casualties\" #  naming series"
   ]
  },
  {
   "cell_type": "code",
   "execution_count": 26,
   "id": "900c2898",
   "metadata": {},
   "outputs": [
    {
     "data": {
      "text/plain": [
       "USA    8.3\n",
       "GEM    4.3\n",
       "LDN    3.0\n",
       "AUS    2.1\n",
       "PAK    NaN\n",
       "Name: world war 2 Casualties, dtype: float64"
      ]
     },
     "execution_count": 26,
     "metadata": {},
     "output_type": "execute_result"
    }
   ],
   "source": [
    "obj2"
   ]
  },
  {
   "cell_type": "code",
   "execution_count": 31,
   "id": "ffab96a6",
   "metadata": {},
   "outputs": [],
   "source": [
    "obj2.index.name= 'countries' # naming index"
   ]
  },
  {
   "cell_type": "code",
   "execution_count": 32,
   "id": "5009e325",
   "metadata": {},
   "outputs": [
    {
     "data": {
      "text/plain": [
       "countries\n",
       "USA    8.3\n",
       "GEM    4.3\n",
       "LDN    3.0\n",
       "AUS    2.1\n",
       "PAK    NaN\n",
       "Name: world war 2 Casualties, dtype: float64"
      ]
     },
     "execution_count": 32,
     "metadata": {},
     "output_type": "execute_result"
    }
   ],
   "source": [
    "obj2"
   ]
  },
  {
   "cell_type": "code",
   "execution_count": null,
   "id": "a0e84e43",
   "metadata": {},
   "outputs": [],
   "source": [
    "# Example 7  -   "
   ]
  },
  {
   "cell_type": "code",
   "execution_count": null,
   "id": "12f4966f",
   "metadata": {},
   "outputs": [],
   "source": []
  },
  {
   "cell_type": "code",
   "execution_count": null,
   "id": "bfa4ecaa",
   "metadata": {},
   "outputs": [],
   "source": []
  },
  {
   "cell_type": "code",
   "execution_count": null,
   "id": "a9c1d915",
   "metadata": {},
   "outputs": [],
   "source": []
  },
  {
   "cell_type": "code",
   "execution_count": null,
   "id": "9b662d83",
   "metadata": {},
   "outputs": [],
   "source": []
  },
  {
   "cell_type": "code",
   "execution_count": null,
   "id": "d4c3a5a6",
   "metadata": {},
   "outputs": [],
   "source": []
  },
  {
   "cell_type": "code",
   "execution_count": null,
   "id": "fc0ed610",
   "metadata": {},
   "outputs": [],
   "source": []
  },
  {
   "cell_type": "code",
   "execution_count": null,
   "id": "d06fc4bd",
   "metadata": {},
   "outputs": [],
   "source": []
  },
  {
   "cell_type": "code",
   "execution_count": null,
   "id": "dc28a0b3",
   "metadata": {},
   "outputs": [],
   "source": []
  },
  {
   "cell_type": "code",
   "execution_count": null,
   "id": "f67a8f5f",
   "metadata": {},
   "outputs": [],
   "source": []
  },
  {
   "cell_type": "code",
   "execution_count": null,
   "id": "5ce0bccc",
   "metadata": {},
   "outputs": [],
   "source": []
  },
  {
   "cell_type": "code",
   "execution_count": null,
   "id": "73ab6762",
   "metadata": {},
   "outputs": [],
   "source": []
  },
  {
   "cell_type": "code",
   "execution_count": null,
   "id": "b0994e00",
   "metadata": {},
   "outputs": [],
   "source": []
  },
  {
   "cell_type": "code",
   "execution_count": null,
   "id": "72c17da6",
   "metadata": {},
   "outputs": [],
   "source": []
  },
  {
   "cell_type": "code",
   "execution_count": null,
   "id": "9ca49be6",
   "metadata": {},
   "outputs": [],
   "source": []
  },
  {
   "cell_type": "code",
   "execution_count": null,
   "id": "9d261f47",
   "metadata": {},
   "outputs": [],
   "source": []
  },
  {
   "cell_type": "code",
   "execution_count": null,
   "id": "43645648",
   "metadata": {},
   "outputs": [],
   "source": []
  },
  {
   "cell_type": "code",
   "execution_count": null,
   "id": "9119d98f",
   "metadata": {},
   "outputs": [],
   "source": []
  },
  {
   "cell_type": "code",
   "execution_count": null,
   "id": "2081e0ec",
   "metadata": {},
   "outputs": [],
   "source": []
  },
  {
   "cell_type": "code",
   "execution_count": null,
   "id": "9d294c49",
   "metadata": {},
   "outputs": [],
   "source": [
    "ww2_casual = Series([])"
   ]
  },
  {
   "cell_type": "code",
   "execution_count": null,
   "id": "cec70130",
   "metadata": {},
   "outputs": [],
   "source": []
  },
  {
   "cell_type": "code",
   "execution_count": null,
   "id": "28c25763",
   "metadata": {},
   "outputs": [],
   "source": []
  },
  {
   "cell_type": "code",
   "execution_count": null,
   "id": "65c70145",
   "metadata": {},
   "outputs": [],
   "source": []
  }
 ],
 "metadata": {
  "kernelspec": {
   "display_name": "Python 3",
   "language": "python",
   "name": "python3"
  },
  "language_info": {
   "codemirror_mode": {
    "name": "ipython",
    "version": 3
   },
   "file_extension": ".py",
   "mimetype": "text/x-python",
   "name": "python",
   "nbconvert_exporter": "python",
   "pygments_lexer": "ipython3",
   "version": "3.8.8"
  }
 },
 "nbformat": 4,
 "nbformat_minor": 5
}
