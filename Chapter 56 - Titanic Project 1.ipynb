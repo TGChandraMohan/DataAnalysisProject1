{
 "cells": [
  {
   "cell_type": "code",
   "execution_count": null,
   "id": "066651df",
   "metadata": {},
   "outputs": [],
   "source": [
    "import pandas as pd\n",
    "\n",
    "\n",
    "from pandas import DataFrame,Series"
   ]
  },
  {
   "cell_type": "code",
   "execution_count": null,
   "id": "04cb2c79",
   "metadata": {},
   "outputs": [],
   "source": [
    "titanic_df= pd.read_csv(r'C:\\Users\\parc\\Desktop\\Data Analyst\\titanic\\train.csv')"
   ]
  },
  {
   "cell_type": "code",
   "execution_count": null,
   "id": "8b3c1184",
   "metadata": {},
   "outputs": [],
   "source": [
    "titanic_df.head()"
   ]
  },
  {
   "cell_type": "code",
   "execution_count": null,
   "id": "18dcb7f4",
   "metadata": {},
   "outputs": [],
   "source": [
    "titanic_df.info()"
   ]
  },
  {
   "cell_type": "code",
   "execution_count": null,
   "id": "fdd32152",
   "metadata": {},
   "outputs": [],
   "source": [
    "# 1) Who were the passengers on the Titanic? (Ages,Gender,Class,..etc)"
   ]
  },
  {
   "cell_type": "code",
   "execution_count": null,
   "id": "edadeaef",
   "metadata": {},
   "outputs": [],
   "source": [
    "import numpy as np\n",
    "import  matplotlib.pyplot as plt\n",
    "import  seaborn as sns\n",
    "%matplotlib inline\n"
   ]
  },
  {
   "cell_type": "code",
   "execution_count": null,
   "id": "531f3faf",
   "metadata": {},
   "outputs": [],
   "source": [
    "#  count of  passenger as per  their Sex   with  sns.catplot\n",
    "\n",
    "sns.catplot('Sex',data=titanic_df,kind='count')"
   ]
  },
  {
   "cell_type": "code",
   "execution_count": null,
   "id": "a022c247",
   "metadata": {},
   "outputs": [],
   "source": [
    "#  count of  passenger as per  their Sex using  sns.countplot\n",
    "\n",
    "sns.countplot('Sex',data = titanic_df,)"
   ]
  },
  {
   "cell_type": "code",
   "execution_count": null,
   "id": "f8a24b4a",
   "metadata": {},
   "outputs": [],
   "source": [
    "# count of passenger in each class and distinguised with their Sex\n",
    "\n",
    "sns.countplot('Sex',data=titanic_df,hue='Pclass')"
   ]
  },
  {
   "cell_type": "code",
   "execution_count": null,
   "id": "867a7f45",
   "metadata": {},
   "outputs": [],
   "source": [
    "# better represtation of earleir task using catplot\n",
    "sns.catplot(x='Pclass',hue= 'Sex',\n",
    "            data=titanic_df, kind='count' )"
   ]
  },
  {
   "cell_type": "code",
   "execution_count": null,
   "id": "8af8d27d",
   "metadata": {},
   "outputs": [],
   "source": [
    "# disply of more than two  column side by side\n",
    "\n",
    "sns.catplot(x='Pclass',hue='Sex',col= 'Survived',kind='count',data= titanic_df)"
   ]
  },
  {
   "cell_type": "code",
   "execution_count": null,
   "id": "3a76c999",
   "metadata": {},
   "outputs": [],
   "source": [
    "sns.catplot(x='Survived',hue='Sex',data= titanic_df,kind ='count',col='Pclass')"
   ]
  },
  {
   "cell_type": "code",
   "execution_count": null,
   "id": "9cf2c79a",
   "metadata": {},
   "outputs": [],
   "source": [
    "# We need to know data on Male,Female and  Child, to know this we have creat a function"
   ]
  },
  {
   "cell_type": "code",
   "execution_count": null,
   "id": "1c2c2155",
   "metadata": {},
   "outputs": [],
   "source": [
    "def male_female_child(passenger):\n",
    "    age,sex = passenger\n",
    "    \n",
    "    if age<16:\n",
    "        return'child'\n",
    "    else:\n",
    "        return sex"
   ]
  },
  {
   "cell_type": "code",
   "execution_count": null,
   "id": "afcfe1ef",
   "metadata": {},
   "outputs": [],
   "source": [
    "titanic_df['person']=titanic_df[['Age','Sex']].apply(male_female_child,axis=1)"
   ]
  },
  {
   "cell_type": "code",
   "execution_count": null,
   "id": "0f682850",
   "metadata": {},
   "outputs": [],
   "source": [
    "def male_female_child1(trail):\n",
    "    age,sex = trail\n",
    "    \n",
    "    if age<16:\n",
    "        return'child'\n",
    "    else:\n",
    "        return sex"
   ]
  },
  {
   "cell_type": "code",
   "execution_count": null,
   "id": "e4757f21",
   "metadata": {},
   "outputs": [],
   "source": [
    "titanic_df['person2']=titanic_df[['Age','Sex']].apply(male_female_child1,axis=1)"
   ]
  },
  {
   "cell_type": "code",
   "execution_count": null,
   "id": "83f85e54",
   "metadata": {},
   "outputs": [],
   "source": [
    "titanic_df[0:20]"
   ]
  },
  {
   "cell_type": "code",
   "execution_count": null,
   "id": "e3395e82",
   "metadata": {},
   "outputs": [],
   "source": [
    "sns.catplot(x='Pclass',hue='person',col= 'Survived',kind='count',data= titanic_df)"
   ]
  },
  {
   "cell_type": "code",
   "execution_count": null,
   "id": "4517664b",
   "metadata": {},
   "outputs": [],
   "source": [
    "# distribution of ages"
   ]
  },
  {
   "cell_type": "code",
   "execution_count": null,
   "id": "048f5260",
   "metadata": {},
   "outputs": [],
   "source": [
    "titanic_df['Age'].hist(bins=100)"
   ]
  },
  {
   "cell_type": "code",
   "execution_count": null,
   "id": "19918ca3",
   "metadata": {},
   "outputs": [],
   "source": [
    "titanic_df['Age'].mean()"
   ]
  },
  {
   "cell_type": "code",
   "execution_count": null,
   "id": "61127729",
   "metadata": {},
   "outputs": [],
   "source": [
    "titanic_df['person'].value_counts()"
   ]
  },
  {
   "cell_type": "code",
   "execution_count": null,
   "id": "fd229dec",
   "metadata": {},
   "outputs": [],
   "source": [
    "# Chapter  57  Titanic Project 2\n"
   ]
  },
  {
   "cell_type": "code",
   "execution_count": null,
   "id": "00584c56",
   "metadata": {},
   "outputs": [],
   "source": [
    "fig= sns.FacetGrid(titanic_df,aspect =4,hue='Sex')\n",
    "fig.map(sns.kdeplot,'Age',shade =True)\\\n",
    "\n",
    "oldest = titanic_df['Age'].max()\n",
    "fig.set(xlim =(0,oldest))\n",
    "\n",
    "fig.add_legend()"
   ]
  },
  {
   "cell_type": "code",
   "execution_count": null,
   "id": "b41abe57",
   "metadata": {},
   "outputs": [],
   "source": [
    "fig= sns.FacetGrid(titanic_df,aspect =4,hue='person')\n",
    "fig.map(sns.kdeplot,'Age',shade =True)\\\n",
    "\n",
    "oldest = titanic_df['Age'].max()\n",
    "fig.set(xlim =(0,oldest))\n",
    "\n",
    "fig.add_legend()"
   ]
  },
  {
   "cell_type": "code",
   "execution_count": null,
   "id": "4c87edf7",
   "metadata": {},
   "outputs": [],
   "source": [
    "fig= sns.FacetGrid(titanic_df,aspect =4,hue='Pclass')\n",
    "fig.map(sns.kdeplot,'Age',shade =True)\\\n",
    "\n",
    "oldest = titanic_df['Age'].max()\n",
    "fig.set(xlim =(0,oldest))\n",
    "\n",
    "fig.add_legend()"
   ]
  },
  {
   "cell_type": "code",
   "execution_count": null,
   "id": "e492318b",
   "metadata": {},
   "outputs": [],
   "source": [
    "titanic_df"
   ]
  },
  {
   "cell_type": "code",
   "execution_count": null,
   "id": "260d0925",
   "metadata": {},
   "outputs": [],
   "source": [
    "# column Cabin have toomany null values, hence dropping thoes"
   ]
  },
  {
   "cell_type": "code",
   "execution_count": null,
   "id": "318f4554",
   "metadata": {},
   "outputs": [],
   "source": [
    "deck= titanic_df['Cabin'].dropna()"
   ]
  },
  {
   "cell_type": "code",
   "execution_count": null,
   "id": "cf1312a4",
   "metadata": {},
   "outputs": [],
   "source": [
    "deck.head()"
   ]
  },
  {
   "cell_type": "code",
   "execution_count": null,
   "id": "617c1902",
   "metadata": {},
   "outputs": [],
   "source": [
    "levels=[]\n",
    "\n",
    "for level in deck:\n",
    "    levels.append(level[0])\n",
    "\n",
    "cabin_df = DataFrame(levels)\n",
    "cabin_df.columns = ['cabin']\n",
    "\n",
    "sns.catplot('cabin',data=cabin_df,palette='winter_d',kind='count')"
   ]
  },
  {
   "cell_type": "code",
   "execution_count": null,
   "id": "e72aa9fc",
   "metadata": {},
   "outputs": [],
   "source": [
    "cabin_df= cabin_df[cabin_df.cabin!='T']"
   ]
  },
  {
   "cell_type": "code",
   "execution_count": null,
   "id": "dfe6a74d",
   "metadata": {},
   "outputs": [],
   "source": [
    "sns.catplot('cabin',data=cabin_df,kind='count',palette='summer_d')"
   ]
  },
  {
   "cell_type": "code",
   "execution_count": null,
   "id": "76c0030c",
   "metadata": {},
   "outputs": [],
   "source": [
    "titanic_df.head()"
   ]
  },
  {
   "cell_type": "code",
   "execution_count": null,
   "id": "b5522c20",
   "metadata": {},
   "outputs": [],
   "source": [
    "sns.catplot('Embarked',hue='Pclass',kind='count',data=titanic_df)"
   ]
  },
  {
   "cell_type": "code",
   "execution_count": null,
   "id": "8f1756f1",
   "metadata": {},
   "outputs": [],
   "source": [
    "# Chapter 59 - Titanic project 3\n"
   ]
  },
  {
   "cell_type": "code",
   "execution_count": null,
   "id": "ed4cf8c0",
   "metadata": {},
   "outputs": [],
   "source": [
    "titanic_df"
   ]
  },
  {
   "cell_type": "code",
   "execution_count": null,
   "id": "b83a5cb6",
   "metadata": {},
   "outputs": [],
   "source": [
    "titanic_df['Alone']=titanic_df.SibSp + titanic_df.Parch"
   ]
  },
  {
   "cell_type": "code",
   "execution_count": null,
   "id": "b2dd3f07",
   "metadata": {},
   "outputs": [],
   "source": [
    "titanic_df['Alone']"
   ]
  },
  {
   "cell_type": "code",
   "execution_count": null,
   "id": "cc620d62",
   "metadata": {},
   "outputs": [],
   "source": [
    "titanic_df['Alone'].loc[titanic_df['Alone']> 0] = 'With Family'\n",
    "titanic_df['Alone'].loc[titanic_df['Alone']==0] = 'Alone'"
   ]
  },
  {
   "cell_type": "code",
   "execution_count": null,
   "id": "2f9ebbe6",
   "metadata": {},
   "outputs": [],
   "source": [
    "titanic_df.head(10)"
   ]
  },
  {
   "cell_type": "code",
   "execution_count": null,
   "id": "dd09bbbf",
   "metadata": {},
   "outputs": [],
   "source": [
    "sns.catplot('Alone',data=titanic_df,palette='Blues',kind='count')"
   ]
  },
  {
   "cell_type": "code",
   "execution_count": null,
   "id": "aea65242",
   "metadata": {},
   "outputs": [],
   "source": [
    "sns.catplot('Alone',data=titanic_df,palette='Blues',kind='count',hue='Survived')"
   ]
  },
  {
   "cell_type": "code",
   "execution_count": null,
   "id": "4a420341",
   "metadata": {},
   "outputs": [],
   "source": [
    "# what factors helped someone survive the sinking or crash of the Titanic?"
   ]
  },
  {
   "cell_type": "code",
   "execution_count": null,
   "id": "29874d47",
   "metadata": {},
   "outputs": [],
   "source": [
    "titanic_df['Survivor']=titanic_df.Survived.map({0:'NO',1:'YES'})\n",
    "#mapping - chapter 36"
   ]
  },
  {
   "cell_type": "code",
   "execution_count": null,
   "id": "58a519a7",
   "metadata": {},
   "outputs": [],
   "source": [
    "titanic_df.head(10)"
   ]
  },
  {
   "cell_type": "code",
   "execution_count": null,
   "id": "820b89d0",
   "metadata": {},
   "outputs": [],
   "source": [
    "sns.factorplot('Survivor',data=titanic_df,palette='Set1',kind='count')"
   ]
  },
  {
   "cell_type": "code",
   "execution_count": null,
   "id": "20d6c253",
   "metadata": {},
   "outputs": [],
   "source": [
    "sns.factorplot('Pclass','Survived',data=titanic_df,hue='person')"
   ]
  },
  {
   "cell_type": "code",
   "execution_count": null,
   "id": "4714d830",
   "metadata": {},
   "outputs": [],
   "source": [
    "# Does being younger or older have an effect on your survival rate?\n",
    "# We can use a linear plot on age versus survival"
   ]
  },
  {
   "cell_type": "code",
   "execution_count": null,
   "id": "55570c06",
   "metadata": {},
   "outputs": [],
   "source": [
    "sns.lmplot('Age','Survived',data=titanic_df,aspect=2)"
   ]
  },
  {
   "cell_type": "code",
   "execution_count": null,
   "id": "61f17a21",
   "metadata": {},
   "outputs": [],
   "source": [
    "sns.lmplot('Age','Survived',data=titanic_df,hue= 'Pclass',palette='winter_d',aspect=2)"
   ]
  },
  {
   "cell_type": "code",
   "execution_count": null,
   "id": "49bef5c5",
   "metadata": {},
   "outputs": [],
   "source": [
    "generations = [10,20,40,60,80]\n",
    "\n",
    "sns.lmplot('Age','Survived',hue='Pclass',data=titanic_df,palette='winter',x_bins=generations,aspect=3)"
   ]
  },
  {
   "cell_type": "code",
   "execution_count": null,
   "id": "4bc4b927",
   "metadata": {},
   "outputs": [],
   "source": [
    "sns.lmplot('Age','Survived',hue='Sex',data=titanic_df,palette='winter',x_bins=generations)"
   ]
  },
  {
   "cell_type": "code",
   "execution_count": null,
   "id": "e887ddb8",
   "metadata": {},
   "outputs": [],
   "source": [
    "print(titanic_df.DESCR)"
   ]
  },
  {
   "cell_type": "code",
   "execution_count": null,
   "id": "cf12035d",
   "metadata": {},
   "outputs": [],
   "source": []
  },
  {
   "cell_type": "code",
   "execution_count": null,
   "id": "3a67f7ed",
   "metadata": {},
   "outputs": [],
   "source": []
  },
  {
   "cell_type": "code",
   "execution_count": null,
   "id": "e4b3d460",
   "metadata": {},
   "outputs": [],
   "source": []
  },
  {
   "cell_type": "code",
   "execution_count": null,
   "id": "bc2c6aaf",
   "metadata": {},
   "outputs": [],
   "source": []
  },
  {
   "cell_type": "code",
   "execution_count": null,
   "id": "e56685d1",
   "metadata": {},
   "outputs": [],
   "source": []
  },
  {
   "cell_type": "code",
   "execution_count": null,
   "id": "3f003442",
   "metadata": {},
   "outputs": [],
   "source": []
  },
  {
   "cell_type": "code",
   "execution_count": null,
   "id": "443ff093",
   "metadata": {},
   "outputs": [],
   "source": []
  },
  {
   "cell_type": "code",
   "execution_count": null,
   "id": "8e4aaa53",
   "metadata": {},
   "outputs": [],
   "source": []
  },
  {
   "cell_type": "code",
   "execution_count": null,
   "id": "30fe63c0",
   "metadata": {},
   "outputs": [],
   "source": []
  },
  {
   "cell_type": "code",
   "execution_count": null,
   "id": "75c7f938",
   "metadata": {},
   "outputs": [],
   "source": []
  },
  {
   "cell_type": "code",
   "execution_count": null,
   "id": "570b355c",
   "metadata": {},
   "outputs": [],
   "source": []
  },
  {
   "cell_type": "code",
   "execution_count": null,
   "id": "58075a59",
   "metadata": {},
   "outputs": [],
   "source": []
  },
  {
   "cell_type": "code",
   "execution_count": null,
   "id": "aa9e7247",
   "metadata": {},
   "outputs": [],
   "source": []
  },
  {
   "cell_type": "code",
   "execution_count": null,
   "id": "ea2b8ab4",
   "metadata": {},
   "outputs": [],
   "source": []
  },
  {
   "cell_type": "code",
   "execution_count": null,
   "id": "fa33d20d",
   "metadata": {},
   "outputs": [],
   "source": []
  },
  {
   "cell_type": "code",
   "execution_count": null,
   "id": "4a35aa0a",
   "metadata": {},
   "outputs": [],
   "source": []
  },
  {
   "cell_type": "code",
   "execution_count": null,
   "id": "8fd333cb",
   "metadata": {},
   "outputs": [],
   "source": []
  },
  {
   "cell_type": "code",
   "execution_count": null,
   "id": "69002c48",
   "metadata": {},
   "outputs": [],
   "source": []
  },
  {
   "cell_type": "code",
   "execution_count": null,
   "id": "8933661b",
   "metadata": {},
   "outputs": [],
   "source": []
  },
  {
   "cell_type": "code",
   "execution_count": null,
   "id": "e56aad2a",
   "metadata": {},
   "outputs": [],
   "source": []
  },
  {
   "cell_type": "code",
   "execution_count": null,
   "id": "ce9d11c4",
   "metadata": {},
   "outputs": [],
   "source": []
  },
  {
   "cell_type": "code",
   "execution_count": null,
   "id": "7a97dbde",
   "metadata": {},
   "outputs": [],
   "source": []
  }
 ],
 "metadata": {
  "kernelspec": {
   "display_name": "Python 3",
   "language": "python",
   "name": "python3"
  },
  "language_info": {
   "codemirror_mode": {
    "name": "ipython",
    "version": 3
   },
   "file_extension": ".py",
   "mimetype": "text/x-python",
   "name": "python",
   "nbconvert_exporter": "python",
   "pygments_lexer": "ipython3",
   "version": "3.8.8"
  }
 },
 "nbformat": 4,
 "nbformat_minor": 5
}
