{
 "cells": [
  {
   "cell_type": "code",
   "execution_count": null,
   "id": "d486c2b5",
   "metadata": {},
   "outputs": [],
   "source": [
    "# Example 1"
   ]
  },
  {
   "cell_type": "code",
   "execution_count": 23,
   "id": "7545e493",
   "metadata": {},
   "outputs": [],
   "source": [
    "my_list1 = [1,2,3,4,5] #creating list"
   ]
  },
  {
   "cell_type": "code",
   "execution_count": 24,
   "id": "65ce680c",
   "metadata": {},
   "outputs": [],
   "source": [
    "my_array1 = np.array(my_list1) # definig function"
   ]
  },
  {
   "cell_type": "code",
   "execution_count": 25,
   "id": "74e77476",
   "metadata": {},
   "outputs": [
    {
     "data": {
      "text/plain": [
       "array([1, 2, 3, 4, 5])"
      ]
     },
     "execution_count": 25,
     "metadata": {},
     "output_type": "execute_result"
    }
   ],
   "source": [
    "my_array1 # executing  function"
   ]
  },
  {
   "cell_type": "code",
   "execution_count": null,
   "id": "f7410491",
   "metadata": {},
   "outputs": [],
   "source": [
    "#Example 2"
   ]
  },
  {
   "cell_type": "code",
   "execution_count": null,
   "id": "74f1079d",
   "metadata": {},
   "outputs": [],
   "source": [
    "# combining two list"
   ]
  },
  {
   "cell_type": "code",
   "execution_count": 26,
   "id": "30504119",
   "metadata": {},
   "outputs": [],
   "source": [
    "list_2 =[11,22,33,44,55]  #creating list"
   ]
  },
  {
   "cell_type": "code",
   "execution_count": 28,
   "id": "5966df42",
   "metadata": {},
   "outputs": [],
   "source": [
    "list_all =[my_list1,list_2] #creating list"
   ]
  },
  {
   "cell_type": "code",
   "execution_count": 29,
   "id": "17edc920",
   "metadata": {},
   "outputs": [],
   "source": [
    "array_2 = np.array(list_all) # definig lsit"
   ]
  },
  {
   "cell_type": "code",
   "execution_count": 30,
   "id": "8b394411",
   "metadata": {},
   "outputs": [
    {
     "data": {
      "text/plain": [
       "array([[ 1,  2,  3,  4,  5],\n",
       "       [11, 22, 33, 44, 55]])"
      ]
     },
     "execution_count": 30,
     "metadata": {},
     "output_type": "execute_result"
    }
   ],
   "source": [
    "array_2  # executing list"
   ]
  },
  {
   "cell_type": "code",
   "execution_count": null,
   "id": "7c536158",
   "metadata": {},
   "outputs": [],
   "source": [
    "# Example 3"
   ]
  },
  {
   "cell_type": "code",
   "execution_count": null,
   "id": "babae6ce",
   "metadata": {},
   "outputs": [],
   "source": [
    "# knowing the shape of the array"
   ]
  },
  {
   "cell_type": "code",
   "execution_count": 31,
   "id": "e089c94f",
   "metadata": {},
   "outputs": [
    {
     "data": {
      "text/plain": [
       "(2, 5)"
      ]
     },
     "execution_count": 31,
     "metadata": {},
     "output_type": "execute_result"
    }
   ],
   "source": [
    "array_2.shape"
   ]
  },
  {
   "cell_type": "code",
   "execution_count": 32,
   "id": "121b018e",
   "metadata": {},
   "outputs": [],
   "source": [
    "# Example 4 - Knowing the data type of the array"
   ]
  },
  {
   "cell_type": "code",
   "execution_count": 33,
   "id": "8259996b",
   "metadata": {},
   "outputs": [
    {
     "data": {
      "text/plain": [
       "dtype('int32')"
      ]
     },
     "execution_count": 33,
     "metadata": {},
     "output_type": "execute_result"
    }
   ],
   "source": [
    "array_2 .dtype"
   ]
  },
  {
   "cell_type": "code",
   "execution_count": 34,
   "id": "86856c7c",
   "metadata": {},
   "outputs": [],
   "source": [
    "# Example 5 - Special case array in case if we want all Zero in the array"
   ]
  },
  {
   "cell_type": "code",
   "execution_count": 58,
   "id": "7717d362",
   "metadata": {},
   "outputs": [
    {
     "data": {
      "text/plain": [
       "array([[0., 0., 0., 0.],\n",
       "       [0., 0., 0., 0.],\n",
       "       [0., 0., 0., 0.]])"
      ]
     },
     "execution_count": 58,
     "metadata": {},
     "output_type": "execute_result"
    }
   ],
   "source": [
    "np.zeros((3,4))"
   ]
  },
  {
   "cell_type": "code",
   "execution_count": 59,
   "id": "5ef220e1",
   "metadata": {},
   "outputs": [],
   "source": [
    "my_zero_array= np.zeros((3,4))"
   ]
  },
  {
   "cell_type": "code",
   "execution_count": 65,
   "id": "6d372d52",
   "metadata": {},
   "outputs": [
    {
     "data": {
      "text/plain": [
       "dtype('float64')"
      ]
     },
     "execution_count": 65,
     "metadata": {},
     "output_type": "execute_result"
    }
   ],
   "source": [
    "my_zero_array.dtype"
   ]
  },
  {
   "cell_type": "code",
   "execution_count": null,
   "id": "46e37ee6",
   "metadata": {},
   "outputs": [],
   "source": [
    "# Example 6 - Special case array in case if we want all one's in the array"
   ]
  },
  {
   "cell_type": "code",
   "execution_count": 52,
   "id": "6145182f",
   "metadata": {},
   "outputs": [
    {
     "data": {
      "text/plain": [
       "array([[1, 1, 1, 1, 1],\n",
       "       [1, 1, 1, 1, 1]])"
      ]
     },
     "execution_count": 52,
     "metadata": {},
     "output_type": "execute_result"
    }
   ],
   "source": [
    "np.ones((2,5), dtype= int)"
   ]
  },
  {
   "cell_type": "code",
   "execution_count": 56,
   "id": "e81b948f",
   "metadata": {},
   "outputs": [
    {
     "data": {
      "text/plain": [
       "array([1., 1., 1., 1., 1.])"
      ]
     },
     "execution_count": 56,
     "metadata": {},
     "output_type": "execute_result"
    }
   ],
   "source": [
    "np.ones(5)"
   ]
  },
  {
   "cell_type": "code",
   "execution_count": 66,
   "id": "e8b2b710",
   "metadata": {},
   "outputs": [
    {
     "data": {
      "text/plain": [
       "array([[1., 1., 1., 1., 1.],\n",
       "       [1., 1., 1., 1., 1.],\n",
       "       [1., 1., 1., 1., 1.],\n",
       "       [1., 1., 1., 1., 1.],\n",
       "       [1., 1., 1., 1., 1.]])"
      ]
     },
     "execution_count": 66,
     "metadata": {},
     "output_type": "execute_result"
    }
   ],
   "source": [
    "np.ones([5,5])"
   ]
  },
  {
   "cell_type": "code",
   "execution_count": 67,
   "id": "5c61ac2c",
   "metadata": {},
   "outputs": [],
   "source": [
    "# Example 7 - Special case array in case if we want all empty cell in the array"
   ]
  },
  {
   "cell_type": "code",
   "execution_count": 68,
   "id": "70fe3966",
   "metadata": {},
   "outputs": [
    {
     "data": {
      "text/plain": [
       "array([6.37401647e-067, 2.16847421e-028, 1.06532414e-312, 0.00000000e+000])"
      ]
     },
     "execution_count": 68,
     "metadata": {},
     "output_type": "execute_result"
    }
   ],
   "source": [
    "np.empty(4) # for some reason np.empty"
   ]
  },
  {
   "cell_type": "code",
   "execution_count": null,
   "id": "aafae889",
   "metadata": {},
   "outputs": [],
   "source": [
    "#Example 8 -  identity Matrix , diagolnal of 1 rest all will be 0"
   ]
  },
  {
   "cell_type": "code",
   "execution_count": 64,
   "id": "36e15ade",
   "metadata": {},
   "outputs": [
    {
     "data": {
      "text/plain": [
       "array([[1., 0., 0., 0., 0.],\n",
       "       [0., 1., 0., 0., 0.],\n",
       "       [0., 0., 1., 0., 0.],\n",
       "       [0., 0., 0., 1., 0.],\n",
       "       [0., 0., 0., 0., 1.]])"
      ]
     },
     "execution_count": 64,
     "metadata": {},
     "output_type": "execute_result"
    }
   ],
   "source": [
    "np.eye(5) "
   ]
  },
  {
   "cell_type": "code",
   "execution_count": null,
   "id": "56b567ab",
   "metadata": {},
   "outputs": [],
   "source": [
    "#Example 9 - Arrage function"
   ]
  },
  {
   "cell_type": "code",
   "execution_count": 70,
   "id": "626b36f0",
   "metadata": {},
   "outputs": [
    {
     "data": {
      "text/plain": [
       "array([0, 1, 2, 3, 4])"
      ]
     },
     "execution_count": 70,
     "metadata": {},
     "output_type": "execute_result"
    }
   ],
   "source": [
    "np.arange(5)"
   ]
  },
  {
   "cell_type": "code",
   "execution_count": 71,
   "id": "57c2cc45",
   "metadata": {},
   "outputs": [
    {
     "data": {
      "text/plain": [
       "array([ 4,  7, 10, 13, 16, 19])"
      ]
     },
     "execution_count": 71,
     "metadata": {},
     "output_type": "execute_result"
    }
   ],
   "source": [
    "np.arange(4,20,3) # this function means start at 4 stop at 20  step 3 (difference of 3 each)"
   ]
  },
  {
   "cell_type": "code",
   "execution_count": null,
   "id": "d28eb84f",
   "metadata": {},
   "outputs": [],
   "source": []
  },
  {
   "cell_type": "code",
   "execution_count": null,
   "id": "8a3e3125",
   "metadata": {},
   "outputs": [],
   "source": []
  },
  {
   "cell_type": "code",
   "execution_count": null,
   "id": "2d861c37",
   "metadata": {},
   "outputs": [],
   "source": []
  }
 ],
 "metadata": {
  "kernelspec": {
   "display_name": "Python 3",
   "language": "python",
   "name": "python3"
  },
  "language_info": {
   "codemirror_mode": {
    "name": "ipython",
    "version": 3
   },
   "file_extension": ".py",
   "mimetype": "text/x-python",
   "name": "python",
   "nbconvert_exporter": "python",
   "pygments_lexer": "ipython3",
   "version": "3.8.8"
  }
 },
 "nbformat": 4,
 "nbformat_minor": 5
}
