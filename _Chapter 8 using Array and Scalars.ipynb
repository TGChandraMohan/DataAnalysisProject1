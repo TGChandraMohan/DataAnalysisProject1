{
 "cells": [
  {
   "cell_type": "code",
   "execution_count": 1,
   "id": "e7229c1a",
   "metadata": {},
   "outputs": [],
   "source": [
    "import numpy as np"
   ]
  },
  {
   "cell_type": "code",
   "execution_count": null,
   "id": "6fb2edf9",
   "metadata": {},
   "outputs": [],
   "source": [
    "# Example 1 - muliti list array or multi dimensional array"
   ]
  },
  {
   "cell_type": "code",
   "execution_count": 8,
   "id": "b93696e8",
   "metadata": {},
   "outputs": [],
   "source": [
    "array1 = np.array([[1,2,3,4,],[8,9,10,11]])"
   ]
  },
  {
   "cell_type": "code",
   "execution_count": 10,
   "id": "3869925e",
   "metadata": {},
   "outputs": [
    {
     "data": {
      "text/plain": [
       "array([[ 1,  2,  3,  4],\n",
       "       [ 8,  9, 10, 11]])"
      ]
     },
     "execution_count": 10,
     "metadata": {},
     "output_type": "execute_result"
    }
   ],
   "source": [
    "array1"
   ]
  },
  {
   "cell_type": "code",
   "execution_count": null,
   "id": "8920b00b",
   "metadata": {},
   "outputs": [],
   "source": [
    "# Example 2 - mulitiplying array"
   ]
  },
  {
   "cell_type": "code",
   "execution_count": 9,
   "id": "6d296e8f",
   "metadata": {},
   "outputs": [
    {
     "data": {
      "text/plain": [
       "array([[  1,   4,   9,  16],\n",
       "       [ 64,  81, 100, 121]])"
      ]
     },
     "execution_count": 9,
     "metadata": {},
     "output_type": "execute_result"
    }
   ],
   "source": [
    "array1*array1"
   ]
  },
  {
   "cell_type": "code",
   "execution_count": null,
   "id": "ae00ae96",
   "metadata": {},
   "outputs": [],
   "source": [
    "# Example 4 - subtracting array"
   ]
  },
  {
   "cell_type": "code",
   "execution_count": 11,
   "id": "aa0219e5",
   "metadata": {},
   "outputs": [
    {
     "data": {
      "text/plain": [
       "array([[0, 0, 0, 0],\n",
       "       [0, 0, 0, 0]])"
      ]
     },
     "execution_count": 11,
     "metadata": {},
     "output_type": "execute_result"
    }
   ],
   "source": [
    "array1 - array1"
   ]
  },
  {
   "cell_type": "code",
   "execution_count": null,
   "id": "630f7956",
   "metadata": {},
   "outputs": [],
   "source": [
    "# Example 5 - Division  array"
   ]
  },
  {
   "cell_type": "code",
   "execution_count": 15,
   "id": "cb65b99f",
   "metadata": {},
   "outputs": [
    {
     "data": {
      "text/plain": [
       "array([[1.        , 0.5       , 0.33333333, 0.25      ],\n",
       "       [0.125     , 0.11111111, 0.1       , 0.09090909]])"
      ]
     },
     "execution_count": 15,
     "metadata": {},
     "output_type": "execute_result"
    }
   ],
   "source": [
    "1/array1\n"
   ]
  },
  {
   "cell_type": "code",
   "execution_count": null,
   "id": "411a0ae6",
   "metadata": {},
   "outputs": [],
   "source": [
    "# Example 6 -  array with  powers"
   ]
  },
  {
   "cell_type": "code",
   "execution_count": 14,
   "id": "030395c5",
   "metadata": {},
   "outputs": [
    {
     "data": {
      "text/plain": [
       "array([[   1,    8,   27,   64],\n",
       "       [ 512,  729, 1000, 1331]], dtype=int32)"
      ]
     },
     "execution_count": 14,
     "metadata": {},
     "output_type": "execute_result"
    }
   ],
   "source": [
    "array1**3"
   ]
  }
 ],
 "metadata": {
  "kernelspec": {
   "display_name": "Python 3",
   "language": "python",
   "name": "python3"
  },
  "language_info": {
   "codemirror_mode": {
    "name": "ipython",
    "version": 3
   },
   "file_extension": ".py",
   "mimetype": "text/x-python",
   "name": "python",
   "nbconvert_exporter": "python",
   "pygments_lexer": "ipython3",
   "version": "3.8.8"
  }
 },
 "nbformat": 4,
 "nbformat_minor": 5
}
