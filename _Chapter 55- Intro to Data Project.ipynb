{
 "cells": [
  {
   "cell_type": "code",
   "execution_count": 1,
   "id": "34c32cf7",
   "metadata": {},
   "outputs": [],
   "source": [
    "# public Data sets\n",
    "\n",
    " # Data.Gov\n",
    "# Amazon web services\n",
    "# google  public data\n",
    "\n",
    "# Dowload  Git hub"
   ]
  },
  {
   "cell_type": "code",
   "execution_count": null,
   "id": "81e8256b",
   "metadata": {},
   "outputs": [],
   "source": []
  }
 ],
 "metadata": {
  "kernelspec": {
   "display_name": "Python 3",
   "language": "python",
   "name": "python3"
  },
  "language_info": {
   "codemirror_mode": {
    "name": "ipython",
    "version": 3
   },
   "file_extension": ".py",
   "mimetype": "text/x-python",
   "name": "python",
   "nbconvert_exporter": "python",
   "pygments_lexer": "ipython3",
   "version": "3.8.8"
  }
 },
 "nbformat": 4,
 "nbformat_minor": 5
}
